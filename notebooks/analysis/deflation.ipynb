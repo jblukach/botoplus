{
 "cells": [
  {
   "cell_type": "markdown",
   "metadata": {},
   "source": [
    "### Deflation\n",
    "##### Data Structures"
   ]
  },
  {
   "cell_type": "code",
   "execution_count": null,
   "metadata": {},
   "outputs": [],
   "source": [
    "import botoplus.organization as _org\n",
    "import botoplus.deflation as _defalte\n",
    "\n",
    "selected = _org.selected()\n",
    "client = selected.client('lambda')\n",
    "paginator = client.get_paginator('list_functions')\n",
    "pages = paginator.paginate()\n",
    "\n",
    "for page in pages:\n",
    "    for item in page['Functions']:\n",
    "\n",
    "        _defalte.strturuce(item)\n",
    "\n",
    "        break\n",
    "    break"
   ]
  },
  {
   "cell_type": "markdown",
   "metadata": {},
   "source": [
    "##### Flatten Structures"
   ]
  },
  {
   "cell_type": "code",
   "execution_count": null,
   "metadata": {},
   "outputs": [],
   "source": [
    "import botoplus.organization as _org\n",
    "import botoplus.deflation as _defalte\n",
    "\n",
    "selected = _org.selected()\n",
    "client = selected.client('lambda')\n",
    "paginator = client.get_paginator('list_functions')\n",
    "pages = paginator.paginate()\n",
    "\n",
    "for page in pages:\n",
    "    for item in page['Functions']:\n",
    "\n",
    "        dupe = []\n",
    "        out = _defalte.deflation(item, dupe)\n",
    "        print(out)\n",
    "\n",
    "        break\n",
    "    break"
   ]
  }
 ],
 "metadata": {
  "kernelspec": {
   "display_name": "Python 3",
   "language": "python",
   "name": "python3"
  },
  "language_info": {
   "codemirror_mode": {
    "name": "ipython",
    "version": 3
   },
   "file_extension": ".py",
   "mimetype": "text/x-python",
   "name": "python",
   "nbconvert_exporter": "python",
   "pygments_lexer": "ipython3",
   "version": "3.12.1"
  }
 },
 "nbformat": 4,
 "nbformat_minor": 2
}
