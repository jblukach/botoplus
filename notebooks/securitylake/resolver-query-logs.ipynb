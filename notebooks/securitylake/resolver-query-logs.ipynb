{
 "cells": [
  {
   "cell_type": "markdown",
   "metadata": {},
   "source": [
    "### Amazon Route53 Resolver Query Logs\n",
    "##### Read CSV to DataFrame"
   ]
  },
  {
   "cell_type": "code",
   "execution_count": null,
   "metadata": {},
   "outputs": [],
   "source": [
    "import pandas as pd\n",
    "\n",
    "df = pd.read_csv('/tmp/7beb115e-69e3-44e3-8a0f-3793d59ceac7.csv', sep=',')\n",
    "\n",
    "pd.set_option('display.max_columns', None)\n",
    "pd.set_option('display.max_rows', None)\n",
    "\n",
    "df.head(1)"
   ]
  },
  {
   "cell_type": "markdown",
   "metadata": {},
   "source": [
    "##### Identify Query Source"
   ]
  },
  {
   "cell_type": "code",
   "execution_count": null,
   "metadata": {},
   "outputs": [],
   "source": [
    "pd.crosstab(\n",
    "    index = [\n",
    "        df[\"query_hostname\"],\n",
    "        df[\"query_type\"],\n",
    "        df[\"accountid\"],\n",
    "        df[\"region\"],\n",
    "        df[\"src_vpc_uid\"],\n",
    "        df[\"src_instance_uid\"],\n",
    "        df[\"src_ip\"]\n",
    "    ], \n",
    "    columns = [\n",
    "        df[\"rcode\"]\n",
    "    ],                      \n",
    "    margins = True\n",
    ").sort_index(\n",
    "    axis = 1,\n",
    "    ascending = False\n",
    ").sort_values(\n",
    "    by = [\n",
    "        'All'\n",
    "    ],\n",
    "    ascending = False\n",
    ")   "
   ]
  },
  {
   "cell_type": "markdown",
   "metadata": {},
   "source": [
    "##### Identify Host Source"
   ]
  },
  {
   "cell_type": "code",
   "execution_count": null,
   "metadata": {},
   "outputs": [],
   "source": [
    "pd.crosstab(\n",
    "    index = [\n",
    "        df[\"src_ip\"],\n",
    "        df[\"src_instance_uid\"],\n",
    "        df[\"src_vpc_uid\"],\n",
    "        df[\"region\"],\n",
    "        df[\"accountid\"],\n",
    "        df[\"query_type\"],\n",
    "        df[\"query_hostname\"]\n",
    "    ], \n",
    "    columns = [\n",
    "        df[\"rcode\"]\n",
    "    ],                      \n",
    "    margins = True\n",
    ").sort_index(\n",
    "    axis = 1,\n",
    "    ascending = False\n",
    ").sort_values(\n",
    "    by = [\n",
    "        'All'\n",
    "    ],\n",
    "    ascending = False\n",
    ")  "
   ]
  },
  {
   "cell_type": "markdown",
   "metadata": {},
   "source": [
    "##### Query Times"
   ]
  },
  {
   "cell_type": "code",
   "execution_count": null,
   "metadata": {},
   "outputs": [],
   "source": [
    "import matplotlib.pyplot as plt\n",
    "\n",
    "df1 = df['time'].value_counts().rename_axis('time').reset_index(name='counts')\n",
    "df1 = df1.sort_values(by=['time'], ascending=True)\n",
    "\n",
    "plt.figure(figsize=(20,10))\n",
    "plt.scatter(df1['time'], df1['counts'])\n",
    "plt.show()"
   ]
  },
  {
   "cell_type": "markdown",
   "metadata": {},
   "source": [
    "##### Query Deviations"
   ]
  },
  {
   "cell_type": "code",
   "execution_count": null,
   "metadata": {},
   "outputs": [],
   "source": [
    "import matplotlib.pyplot as plt\n",
    "import numpy as np\n",
    "\n",
    "df2 = df['query_hostname'].value_counts().rename_axis('query_hostname').reset_index(name='counts')\n",
    "\n",
    "records = df2.loc[:,'counts'].to_numpy()\n",
    "mean = records.mean()\n",
    "median = np.median(records)\n",
    "stddev = np.std(records)\n",
    "\n",
    "plt.figure(figsize=(20,10))\n",
    "plt.hist(df2.loc[:,'counts'], log=True)\n",
    "plt.plot([mean, mean],[0,15**4], label=\"Mean\")\n",
    "plt.plot([median,median],[0,15**4],label=\"Median\")\n",
    "plt.plot([mean+stddev,mean+stddev],[0,15**4], label=\"+1 std\")\n",
    "plt.plot([mean+(stddev*2),mean+(stddev*2)],[0,15**4], label=\"+2 std\")\n",
    "\n",
    "plt.legend()\n",
    "plt.show()"
   ]
  },
  {
   "cell_type": "markdown",
   "metadata": {},
   "source": [
    "##### Identify Query Answers"
   ]
  },
  {
   "cell_type": "code",
   "execution_count": null,
   "metadata": {},
   "outputs": [],
   "source": [
    "import matplotlib.pyplot as plt\n",
    "import numpy as np\n",
    "\n",
    "df3 = df[['query_hostname','answers']]\n",
    "df3 = df3[df3['answers'].notna()]\n",
    "\n",
    "items = []\n",
    "\n",
    "for index, row in df3.iterrows():\n",
    "    answers = row['answers'].split('}, {')\n",
    "    for answer in answers:\n",
    "        answer = answer.replace('[','').replace(']','').replace('{','').replace('}','')\n",
    "        item = answer.split(', ')\n",
    "        items.append([row['query_hostname'],item[1][6:]])\n",
    "\n",
    "df4 = pd.DataFrame(items, columns=['query_hostname','answer'])\n",
    "\n",
    "pd.crosstab(\n",
    "    index = [\n",
    "        df4[\"query_hostname\"]\n",
    "    ], \n",
    "    columns = [\n",
    "        df4[\"answer\"]\n",
    "    ],                      \n",
    "    margins = True\n",
    ").sort_index(\n",
    "    axis = 1,\n",
    "    ascending = False\n",
    ").sort_values(\n",
    "    by = [\n",
    "        'All'\n",
    "    ],\n",
    "    ascending = False\n",
    ")\n"
   ]
  },
  {
   "cell_type": "markdown",
   "metadata": {},
   "source": [
    "##### Answer Deviations"
   ]
  },
  {
   "cell_type": "code",
   "execution_count": null,
   "metadata": {},
   "outputs": [],
   "source": [
    "import matplotlib.pyplot as plt\n",
    "import numpy as np\n",
    "\n",
    "df5 = df4['answer'].value_counts().rename_axis('answer').reset_index(name='counts')\n",
    "\n",
    "records = df5.loc[:,'counts'].to_numpy()\n",
    "mean = records.mean()\n",
    "median = np.median(records)\n",
    "stddev = np.std(records)\n",
    "\n",
    "plt.figure(figsize=(20,10))\n",
    "plt.hist(df5.loc[:,'counts'], log=True)\n",
    "plt.plot([mean, mean],[0,15**4], label=\"Mean\")\n",
    "plt.plot([median,median],[0,15**4],label=\"Median\")\n",
    "plt.plot([mean+stddev,mean+stddev],[0,15**4], label=\"+1 std\")\n",
    "plt.plot([mean+(stddev*2),mean+(stddev*2)],[0,15**4], label=\"+2 std\")\n",
    "\n",
    "plt.legend()\n",
    "plt.show()"
   ]
  }
 ],
 "metadata": {
  "kernelspec": {
   "display_name": "Python 3",
   "language": "python",
   "name": "python3"
  },
  "language_info": {
   "codemirror_mode": {
    "name": "ipython",
    "version": 3
   },
   "file_extension": ".py",
   "mimetype": "text/x-python",
   "name": "python",
   "nbconvert_exporter": "python",
   "pygments_lexer": "ipython3",
   "version": "3.10.8"
  }
 },
 "nbformat": 4,
 "nbformat_minor": 2
}
