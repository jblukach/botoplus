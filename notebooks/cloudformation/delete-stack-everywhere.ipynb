{
 "cells": [
  {
   "cell_type": "markdown",
   "metadata": {},
   "source": [
    "### CloudFormation\n",
    "##### Delete Stack Everywhere"
   ]
  },
  {
   "cell_type": "code",
   "execution_count": null,
   "metadata": {},
   "outputs": [],
   "source": [
    "import botoplus.botoplus as botoplus\n",
    "\n",
    "stackname = botoplus.deletestack()\n",
    "\n",
    "accounts = botoplus.accounts()\n",
    "\n",
    "for account in accounts:\n",
    "\n",
    "    print(str(account['awsaccount'])+' '+account['awsalias'])\n",
    "    session = botoplus.defaults(account['awsaccount'])\n",
    "    ec2 = session.client('ec2')\n",
    "    regions = ec2.describe_regions()\n",
    "\n",
    "    for region in regions['Regions']:\n",
    "        try:\n",
    "            cfn = session.client('cloudformation', region_name = region['RegionName'])\n",
    "            cfn.update_termination_protection(\n",
    "                EnableTerminationProtection = False,\n",
    "                StackName = stackname\n",
    "            )\n",
    "            cfn.delete_stack(\n",
    "                StackName = stackname\n",
    "            )\n",
    "            print(' - '+region['RegionName']+' SUCCESS')\n",
    "        except:\n",
    "            print(' - '+region['RegionName']+' DENIED')\n",
    "            pass"
   ]
  }
 ],
 "metadata": {
  "kernelspec": {
   "display_name": "Python 3",
   "language": "python",
   "name": "python3"
  },
  "language_info": {
   "codemirror_mode": {
    "name": "ipython",
    "version": 3
   },
   "file_extension": ".py",
   "mimetype": "text/x-python",
   "name": "python",
   "nbconvert_exporter": "python",
   "pygments_lexer": "ipython3",
   "version": "3.10.13"
  }
 },
 "nbformat": 4,
 "nbformat_minor": 2
}
