{
 "cells": [
  {
   "cell_type": "markdown",
   "metadata": {},
   "source": [
    "### Virtual Private Cloud (VPC)\n",
    "##### Delete Default VPCs"
   ]
  },
  {
   "cell_type": "code",
   "execution_count": null,
   "metadata": {},
   "outputs": [],
   "source": [
    "import botoplus.botoplus as botoplus\n",
    "\n",
    "accounts = botoplus.accounts()\n",
    "\n",
    "for account in accounts:\n",
    "\n",
    "    print(str(account['awsaccount'])+' '+account['awsalias'])\n",
    "    session = botoplus.defaults(account['awsaccount'])\n",
    "    ec2 = session.client('ec2')\n",
    "    regions = ec2.describe_regions()\n",
    "\n",
    "    for region in regions['Regions']:\n",
    "\n",
    "        print(' - '+region['RegionName'])\n",
    "        ec2_region = session.client('ec2', region_name = region['RegionName'])\n",
    "        paginator = ec2_region.get_paginator('describe_vpcs')\n",
    "        response_iterator = paginator.paginate()\n",
    "        for page in response_iterator:\n",
    "            if len(page['Vpcs']) > 0:\n",
    "                for item in page['Vpcs']:\n",
    "                    if item['IsDefault'] is True:\n",
    "\n",
    "                        paginator2 = ec2_region.get_paginator('describe_internet_gateways')\n",
    "                        response_iterator2 = paginator2.paginate()\n",
    "                        for page2 in response_iterator2:\n",
    "                            for item2 in page2['InternetGateways']:\n",
    "                                if len(page2['InternetGateways']) > 0:\n",
    "                                    if item2['Attachments'][0]['VpcId'] == item['VpcId']:\n",
    "                                        try:\n",
    "                                            ec2_region.detach_internet_gateway(\n",
    "                                                InternetGatewayId=item2['InternetGatewayId'],\n",
    "                                                VpcId=item['VpcId']\n",
    "                                            )\n",
    "                                            ec2_region.delete_internet_gateway(\n",
    "                                                InternetGatewayId=item2['InternetGatewayId']\n",
    "                                            )\n",
    "                                        except:\n",
    "                                            print('ERROR '+str(item2))\n",
    "\n",
    "                        paginator3 = ec2_region.get_paginator('describe_subnets')\n",
    "                        response_iterator3 = paginator3.paginate()\n",
    "                        for page3 in response_iterator3:\n",
    "                            for item3 in page3['Subnets']:\n",
    "                                if len(page3['Subnets']) > 0:\n",
    "                                    if item3['VpcId'] == item['VpcId']:\n",
    "                                        try:\n",
    "                                            ec2_region.delete_subnet(\n",
    "                                                SubnetId=item3['SubnetId']\n",
    "                                            )\n",
    "                                        except:\n",
    "                                            print('ERROR '+str(item3))\n",
    "\n",
    "                        try:\n",
    "                            ec2_region.delete_vpc(\n",
    "                                VpcId=item['VpcId']\n",
    "                            )\n",
    "                        except:\n",
    "                            print('ERROR '+str(item))\n",
    "                            pass"
   ]
  }
 ],
 "metadata": {
  "kernelspec": {
   "display_name": "Python 3",
   "language": "python",
   "name": "python3"
  },
  "language_info": {
   "codemirror_mode": {
    "name": "ipython",
    "version": 3
   },
   "file_extension": ".py",
   "mimetype": "text/x-python",
   "name": "python",
   "nbconvert_exporter": "python",
   "pygments_lexer": "ipython3",
   "version": "3.10.13"
  }
 },
 "nbformat": 4,
 "nbformat_minor": 2
}
