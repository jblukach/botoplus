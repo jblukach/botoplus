{
 "cells": [
  {
   "cell_type": "markdown",
   "metadata": {},
   "source": [
    "### Virtual Private Cloud (VPC)\n",
    "##### Detect IP Address Conflicts"
   ]
  },
  {
   "cell_type": "code",
   "execution_count": null,
   "metadata": {},
   "outputs": [],
   "source": [
    "import ipaddress\n",
    "import botoplus.botoplus as botoplus\n",
    "\n",
    "networks = []\n",
    "\n",
    "accounts = botoplus.accounts()\n",
    "\n",
    "for account in accounts:\n",
    "\n",
    "    print(str(account['awsaccount'])+' '+account['awsalias'])\n",
    "    session = botoplus.defaults(account['awsaccount'])\n",
    "    ec2 = session.client('ec2')\n",
    "    regions = ec2.describe_regions()\n",
    "\n",
    "    for region in regions['Regions']:\n",
    "        try:\n",
    "            ec2_region = session.client('ec2', region_name = region['RegionName'])\n",
    "            paginator = ec2_region.get_paginator('describe_vpcs')\n",
    "            pages = paginator.paginate()\n",
    "            for page in pages:\n",
    "                for vpcs in page['Vpcs']:\n",
    "                    # Resource Access Manager (RAM) Shared VPC Test\n",
    "                    if account['awsaccount'] == vpcs['OwnerId']:\n",
    "                        # Default VPC Test\n",
    "                        if vpcs['IsDefault'] == True:\n",
    "                            default = 'Default'\n",
    "                        else:\n",
    "                            default = ''\n",
    "                        # IPv6 Test\n",
    "                        try:\n",
    "                            if len(vpcs['Ipv6CidrBlockAssociationSet']) > 0:\n",
    "                                ipv6 = 'IPv6'\n",
    "                            else:\n",
    "                                ipv6 = ''\n",
    "                        except:\n",
    "                            ipv6 = ''\n",
    "                            pass\n",
    "                        print(' - '+region['RegionName']+' '+vpcs['VpcId']+' '+vpcs['CidrBlock']+' '+default+' '+ipv6)\n",
    "                        # Convert CIDR to Integer\n",
    "                        netrange = ipaddress.IPv4Network(vpcs['CidrBlock'])\n",
    "                        first, last = netrange[0], netrange[-1]\n",
    "                        firstip = int(ipaddress.IPv4Address(first))\n",
    "                        lastip = int(ipaddress.IPv4Address(last))\n",
    "                        networks.append({'vpcid':vpcs['VpcId'],'cidrblock':vpcs['CidrBlock'],'firstip':firstip,'lastip':lastip})\n",
    "        except:\n",
    "            print(' - '+region['RegionName']+' DENIED')\n",
    "            pass"
   ]
  },
  {
   "cell_type": "markdown",
   "metadata": {},
   "source": [
    "##### Validate IP Address Conflicts"
   ]
  },
  {
   "cell_type": "code",
   "execution_count": null,
   "metadata": {},
   "outputs": [],
   "source": [
    "for network in networks:\n",
    "    for network2 in networks:\n",
    "        if network['vpcid'] != network2['vpcid']:\n",
    "            if network['firstip'] >= network2['firstip'] and network['firstip'] <= network2['lastip']:\n",
    "                print(' - '+network['vpcid']+' '+network['cidrblock']+' overlaps with '+network2['vpcid']+' '+network2['cidrblock'])\n",
    "            elif network['lastip'] >= network2['firstip'] and network['lastip'] <= network2['lastip']:\n",
    "                print(' - '+network['vpcid']+' '+network['cidrblock']+' overlaps with '+network2['vpcid']+' '+network2['cidrblock'])\n",
    "            elif network['firstip'] <= network2['firstip'] and network['lastip'] >= network2['lastip']:\n",
    "                print(' - '+network['vpcid']+' '+network['cidrblock']+' overlaps with '+network2['vpcid']+' '+network2['cidrblock'])\n",
    "            else:\n",
    "                pass\n",
    "        else:\n",
    "            pass"
   ]
  }
 ],
 "metadata": {
  "kernelspec": {
   "display_name": "Python 3",
   "language": "python",
   "name": "python3"
  },
  "language_info": {
   "codemirror_mode": {
    "name": "ipython",
    "version": 3
   },
   "file_extension": ".py",
   "mimetype": "text/x-python",
   "name": "python",
   "nbconvert_exporter": "python",
   "pygments_lexer": "ipython3",
   "version": "3.10.13"
  },
  "orig_nbformat": 4
 },
 "nbformat": 4,
 "nbformat_minor": 2
}
