{
 "cells": [
  {
   "cell_type": "markdown",
   "metadata": {},
   "source": [
    "### Identity Access Management (IAM)\n",
    "##### External IAM Access Analyzers for Organization\n",
    "IAM Access Analyzer must have Delegated Administrator assigned to the **Audit** account in a Control Tower environment."
   ]
  },
  {
   "cell_type": "code",
   "execution_count": null,
   "metadata": {},
   "outputs": [],
   "source": [
    "import botoplus.organization as _org\n",
    "\n",
    "selected = _org.selected()\n",
    "ec2 = selected.client('ec2')\n",
    "regions = ec2.describe_regions()\n",
    "\n",
    "for region in regions['Regions']:\n",
    "\n",
    "    client = selected.client('accessanalyzer', region_name = region['RegionName'])\n",
    "    paginator = client.get_paginator('list_analyzers')\n",
    "    pages = paginator.paginate(\n",
    "        type = 'ORGANIZATION'\n",
    "    )\n",
    "\n",
    "    exists = []\n",
    "\n",
    "    for page in pages:\n",
    "        for item in page['analyzers']:\n",
    "            exists.append(item['name'])\n",
    "\n",
    "    if 'organization' in exists:\n",
    "\n",
    "        print(' - '+region['RegionName']+' organization: EXISTS')\n",
    "\n",
    "    else:\n",
    "\n",
    "        accessanalyzer = selected.client('accessanalyzer', region_name = region['RegionName'])\n",
    "        \n",
    "        accessanalyzer.create_analyzer(\n",
    "            analyzerName = 'organization',\n",
    "            type = 'ORGANIZATION'\n",
    "        )\n",
    "\n",
    "        print(' - '+region['RegionName']+' organization: CREATED')"
   ]
  },
  {
   "cell_type": "markdown",
   "metadata": {},
   "source": [
    "##### External IAM Access Analyzers for Accounts"
   ]
  },
  {
   "cell_type": "code",
   "execution_count": null,
   "metadata": {},
   "outputs": [],
   "source": [
    "import botoplus.organization as _org\n",
    "\n",
    "display_denied = False\n",
    "\n",
    "accounts = _org.accounts()\n",
    "\n",
    "for account in accounts:\n",
    "\n",
    "    print(str(account['awsaccount'])+' '+account['awsalias'])\n",
    "    sessions = _org.sessions(account['awsaccount'])\n",
    "    ec2 = sessions.client('ec2')\n",
    "    regions = ec2.describe_regions()\n",
    "\n",
    "    for region in regions['Regions']:\n",
    "\n",
    "        try:\n",
    "\n",
    "            client = sessions.client('accessanalyzer', region_name = region['RegionName'])\n",
    "            paginator = client.get_paginator('list_analyzers')\n",
    "            pages = paginator.paginate(\n",
    "                type = 'ACCOUNT'\n",
    "            )\n",
    "\n",
    "            exists = []\n",
    "\n",
    "            for page in pages:\n",
    "                for item in page['analyzers']:\n",
    "                    exists.append(item['name'])\n",
    "\n",
    "            if 'awsaccount' in exists:\n",
    "\n",
    "                print(' - '+region['RegionName']+' awsaccount: EXISTS')\n",
    "\n",
    "            else:\n",
    "\n",
    "                accessanalyzer = sessions.client('accessanalyzer', region_name = region['RegionName'])\n",
    "        \n",
    "                accessanalyzer.create_analyzer(\n",
    "                    analyzerName = 'awsaccount',\n",
    "                    type = 'ACCOUNT'\n",
    "                )\n",
    "\n",
    "                print(' - '+region['RegionName']+' awsaccount: CREATED')\n",
    "\n",
    "        except:\n",
    "\n",
    "            if display_denied == True:\n",
    "                print(' - '+region['RegionName']+' DENIED')\n",
    "            pass"
   ]
  }
 ],
 "metadata": {
  "kernelspec": {
   "display_name": "Python 3",
   "language": "python",
   "name": "python3"
  },
  "language_info": {
   "codemirror_mode": {
    "name": "ipython",
    "version": 3
   },
   "file_extension": ".py",
   "mimetype": "text/x-python",
   "name": "python",
   "nbconvert_exporter": "python",
   "pygments_lexer": "ipython3",
   "version": "3.10.13"
  }
 },
 "nbformat": 4,
 "nbformat_minor": 2
}
