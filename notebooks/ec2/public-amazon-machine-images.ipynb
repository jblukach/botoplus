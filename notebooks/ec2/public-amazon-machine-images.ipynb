{
 "cells": [
  {
   "cell_type": "markdown",
   "metadata": {},
   "source": [
    "### Elastic Compute Cloud (EC2)\n",
    "##### Public Amazon Machine Images"
   ]
  },
  {
   "cell_type": "code",
   "execution_count": null,
   "metadata": {},
   "outputs": [],
   "source": [
    "import hashlib\n",
    "import requests\n",
    "import botoplus.botoplus as botoplus\n",
    "\n",
    "def calculate(account):\n",
    "    hasher = hashlib.sha256()\n",
    "    hasher.update(account.encode())\n",
    "    sha256 = hasher.hexdigest().upper()\n",
    "    return sha256\n",
    "\n",
    "response = requests.get('https://static.matchmeta.info/publicami.json')\n",
    "data = response.json()\n",
    "\n",
    "accounts = botoplus.accounts()\n",
    "\n",
    "for account in accounts:\n",
    "\n",
    "    print(str(account['awsaccount'])+' '+account['awsalias'])\n",
    "\n",
    "    sha256 = calculate(account['awsaccount'])\n",
    "\n",
    "    for region in data['regions']:\n",
    "        for value in region['sha256']:\n",
    "            if value == sha256:\n",
    "                print(' - '+region['region'])\n"
   ]
  }
 ],
 "metadata": {
  "kernelspec": {
   "display_name": "Python 3",
   "language": "python",
   "name": "python3"
  },
  "language_info": {
   "codemirror_mode": {
    "name": "ipython",
    "version": 3
   },
   "file_extension": ".py",
   "mimetype": "text/x-python",
   "name": "python",
   "nbconvert_exporter": "python",
   "pygments_lexer": "ipython3",
   "version": "3.10.8"
  },
  "orig_nbformat": 4
 },
 "nbformat": 4,
 "nbformat_minor": 2
}
