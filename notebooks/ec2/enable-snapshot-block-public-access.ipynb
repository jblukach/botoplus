{
 "cells": [
  {
   "cell_type": "markdown",
   "metadata": {},
   "source": [
    "### Elastic Compute Cloud (EC2)\n",
    "##### Enable Snapshot Block Public Access"
   ]
  },
  {
   "cell_type": "code",
   "execution_count": null,
   "metadata": {},
   "outputs": [],
   "source": [
    "import botoplus.organization as _org\n",
    "\n",
    "display_denied = False\n",
    "\n",
    "accounts = _org.accounts()\n",
    "\n",
    "for account in accounts:\n",
    "\n",
    "    print(str(account['awsaccount'])+' '+account['awsalias'])\n",
    "    sessions = _org.sessions(account['awsaccount'])\n",
    "    ec2 = sessions.client('ec2')\n",
    "    regions = ec2.describe_regions()\n",
    "\n",
    "    for region in regions['Regions']:\n",
    "\n",
    "        try:\n",
    "            ec2_region = sessions.client('ec2', region_name = region['RegionName'])\n",
    "            ec2_region.enable_snapshot_block_public_access(\n",
    "                State = 'block-all-sharing'\n",
    "            )\n",
    "            print(' - '+region['RegionName']+' BLOCKED')\n",
    "        except:\n",
    "            if display_denied == True:\n",
    "                print(' - '+region['RegionName']+' DENIED')\n",
    "            pass"
   ]
  }
 ],
 "metadata": {
  "kernelspec": {
   "display_name": "Python 3",
   "language": "python",
   "name": "python3"
  },
  "language_info": {
   "codemirror_mode": {
    "name": "ipython",
    "version": 3
   },
   "file_extension": ".py",
   "mimetype": "text/x-python",
   "name": "python",
   "nbconvert_exporter": "python",
   "pygments_lexer": "ipython3",
   "version": "3.12.1"
  }
 },
 "nbformat": 4,
 "nbformat_minor": 2
}
