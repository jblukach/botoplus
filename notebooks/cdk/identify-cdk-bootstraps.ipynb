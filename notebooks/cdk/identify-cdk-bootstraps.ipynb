{
 "cells": [
  {
   "cell_type": "markdown",
   "metadata": {},
   "source": [
    "### Cloud Development Kit (CDK)\n",
    "##### Identify CDK Bootstraps\n",
    "\n",
    "https://docs.aws.amazon.com/cdk/v2/guide/bootstrapping.html\n",
    "\n",
    "Default CDK Bootstrap: **hnb659fds**"
   ]
  },
  {
   "cell_type": "code",
   "execution_count": null,
   "metadata": {},
   "outputs": [],
   "source": [
    "import botoplus.organization as _org\n",
    "\n",
    "display_denied = False\n",
    "\n",
    "accounts = _org.accounts()\n",
    "\n",
    "for account in accounts:\n",
    "\n",
    "    print(str(account['awsaccount'])+' '+account['awsalias'])\n",
    "    sessions = _org.sessions(account['awsaccount'])\n",
    "    ec2 = sessions.client('ec2')\n",
    "    regions = ec2.describe_regions()\n",
    "\n",
    "    for region in regions['Regions']:\n",
    "        try:\n",
    "            ssm = sessions.client('ssm', region_name = region['RegionName'])\n",
    "            paginator = ssm.get_paginator('get_parameters_by_path')\n",
    "            pages = paginator.paginate(\n",
    "                Path = '/cdk-bootstrap',\n",
    "                Recursive = True\n",
    "            )\n",
    "            for page in pages:\n",
    "                if len(page['Parameters']) > 0:\n",
    "                    for parameters in page['Parameters']:\n",
    "                        print(' - '+region['RegionName']+' '+parameters['Name']+': '+parameters['Value'])\n",
    "        except:\n",
    "            if display_denied == True:\n",
    "                print(' - '+region['RegionName']+' DENIED')\n",
    "            pass"
   ]
  }
 ],
 "metadata": {
  "kernelspec": {
   "display_name": "Python 3",
   "language": "python",
   "name": "python3"
  },
  "language_info": {
   "codemirror_mode": {
    "name": "ipython",
    "version": 3
   },
   "file_extension": ".py",
   "mimetype": "text/x-python",
   "name": "python",
   "nbconvert_exporter": "python",
   "pygments_lexer": "ipython3",
   "version": "3.12.1"
  }
 },
 "nbformat": 4,
 "nbformat_minor": 2
}
