{
 "cells": [
  {
   "attachments": {},
   "cell_type": "markdown",
   "metadata": {},
   "source": [
    "### Security Hub\n",
    "##### Minimal Cost Configuration"
   ]
  },
  {
   "cell_type": "code",
   "execution_count": null,
   "metadata": {},
   "outputs": [],
   "source": [
    "import botoplus.botoplus as botoplus\n",
    "\n",
    "accounts = botoplus.accounts()\n",
    "\n",
    "for account in accounts:\n",
    "\n",
    "    print(str(account['awsaccount'])+' '+account['awsalias'])\n",
    "    session = botoplus.defaults(account['awsaccount'])\n",
    "    ec2 = session.client('ec2')\n",
    "    regions = ec2.describe_regions()\n",
    "\n",
    "    for region in regions['Regions']:\n",
    "        try:\n",
    "            ### STANDARDS ###\n",
    "            securityhub = session.client('securityhub', region_name = region['RegionName'])\n",
    "            paginator = securityhub.get_paginator('get_enabled_standards')\n",
    "            pages = paginator.paginate()\n",
    "            for page in pages:\n",
    "                for subscriptions in page['StandardsSubscriptions']:\n",
    "                    securityhub.batch_disable_standards(\n",
    "                        StandardsSubscriptionArns = [\n",
    "                            subscriptions['StandardsSubscriptionArn']\n",
    "                        ]\n",
    "                    )\n",
    "            ### SUBSCRIPTIONS ###\n",
    "            paginator = securityhub.get_paginator('list_enabled_products_for_import')\n",
    "            pages = paginator.paginate()\n",
    "            for page in pages:\n",
    "                for products in page['ProductSubscriptions']:\n",
    "                    parsed = products.split('/')\n",
    "                    if parsed[2] != 'access-analyzer' and parsed[2] != 'config' and parsed[2] != 'guardduty' and parsed[2] != 'health' and parsed[2] != 'inspector' and parsed[2] != 'securityhub':\n",
    "                        securityhub.disable_import_findings_for_product(\n",
    "                            ProductSubscriptionArn = products\n",
    "                        )\n",
    "            print(' - '+region['RegionName'])\n",
    "        except:\n",
    "            print(' - '+region['RegionName']+' DENIED')\n",
    "            pass"
   ]
  },
  {
   "cell_type": "markdown",
   "metadata": {},
   "source": [
    "##### List Enabled Region Integrations"
   ]
  },
  {
   "cell_type": "code",
   "execution_count": null,
   "metadata": {},
   "outputs": [],
   "source": [
    "import botoplus.botoplus as botoplus\n",
    "\n",
    "accounts = botoplus.accounts()\n",
    "\n",
    "for account in accounts:\n",
    "\n",
    "    print(str(account['awsaccount'])+' '+account['awsalias'])\n",
    "    session = botoplus.defaults(account['awsaccount'])\n",
    "    ec2 = session.client('ec2')\n",
    "    regions = ec2.describe_regions()\n",
    "\n",
    "    for region in regions['Regions']:\n",
    "        print(' - '+region['RegionName'])\n",
    "        securityhub = session.client('securityhub', region_name=region['RegionName'])\n",
    "        paginator = securityhub.get_paginator('list_enabled_products_for_import')\n",
    "        pages = paginator.paginate()\n",
    "\n",
    "        for page in pages:\n",
    "            for products in page['ProductSubscriptions']:\n",
    "                print(products)"
   ]
  },
  {
   "cell_type": "markdown",
   "metadata": {},
   "source": [
    "##### Enable Region Integrations"
   ]
  },
  {
   "cell_type": "code",
   "execution_count": null,
   "metadata": {},
   "outputs": [],
   "source": [
    "import botoplus.botoplus as botoplus\n",
    "\n",
    "accounts = botoplus.accounts()\n",
    "\n",
    "for account in accounts:\n",
    "\n",
    "    print(str(account['awsaccount'])+' '+account['awsalias'])\n",
    "    session = botoplus.defaults(account['awsaccount'])\n",
    "    ec2 = session.client('ec2')\n",
    "    regions = ec2.describe_regions()\n",
    "\n",
    "    for region in regions['Regions']:\n",
    "        print(' - '+region['RegionName'])\n",
    "        securityhub = session.client('securityhub', region_name=region['RegionName'])\n",
    "        paginator = securityhub.get_paginator('describe_products')\n",
    "        pages = paginator.paginate()\n",
    "\n",
    "        for page in pages:\n",
    "            for products in page['Products']:\n",
    "                if products['CompanyName'] == 'AWS':\n",
    "                    if products['ProductName'] == 'Config' or products['ProductName'] == 'GuardDuty' or products['ProductName'] == 'Health' or products['ProductName'] == 'IAM Access Analyzer' or products['ProductName'] == 'Inspector':\n",
    "                        try:\n",
    "                            securityhub.enable_import_findings_for_product(\n",
    "                                ProductArn = products['ProductArn']\n",
    "                            )\n",
    "                        except:\n",
    "                            pass"
   ]
  }
 ],
 "metadata": {
  "kernelspec": {
   "display_name": "Python 3",
   "language": "python",
   "name": "python3"
  },
  "language_info": {
   "codemirror_mode": {
    "name": "ipython",
    "version": 3
   },
   "file_extension": ".py",
   "mimetype": "text/x-python",
   "name": "python",
   "nbconvert_exporter": "python",
   "pygments_lexer": "ipython3",
   "version": "3.10.13"
  }
 },
 "nbformat": 4,
 "nbformat_minor": 2
}
