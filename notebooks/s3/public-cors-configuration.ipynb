{
 "cells": [
  {
   "cell_type": "markdown",
   "metadata": {},
   "source": [
    "### Simple Storage Service (S3)\n",
    "##### Public CORS Configuration"
   ]
  },
  {
   "cell_type": "code",
   "execution_count": null,
   "metadata": {},
   "outputs": [],
   "source": [
    "import botoplus.botoplus as botoplus\n",
    "\n",
    "accounts = botoplus.accounts()\n",
    "\n",
    "for account in accounts:\n",
    "\n",
    "    print(str(account['awsaccount'])+' '+account['awsalias'])\n",
    "    session = botoplus.defaults(account)\n",
    "    s3 = session.client('s3')\n",
    "    buckets = s3.list_buckets()\n",
    "\n",
    "    for bucket in buckets['Buckets']:\n",
    "        try:\n",
    "            response = s3.get_bucket_cors(\n",
    "                Bucket = bucket['Name']\n",
    "            )\n",
    "            if len(response['CORSRules']) != 0:\n",
    "                print(' - '+bucket['Name'])\n",
    "        except:\n",
    "            pass"
   ]
  }
 ],
 "metadata": {
  "kernelspec": {
   "display_name": "Python 3",
   "language": "python",
   "name": "python3"
  },
  "language_info": {
   "codemirror_mode": {
    "name": "ipython",
    "version": 3
   },
   "file_extension": ".py",
   "mimetype": "text/x-python",
   "name": "python",
   "nbconvert_exporter": "python",
   "pygments_lexer": "ipython3",
   "version": "3.10.8"
  }
 },
 "nbformat": 4,
 "nbformat_minor": 2
}
