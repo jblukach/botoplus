{
 "cells": [
  {
   "cell_type": "markdown",
   "metadata": {},
   "source": [
    "### AWS Simple Storage Service (S3)\n",
    "##### Disable Server Access Logging"
   ]
  },
  {
   "cell_type": "code",
   "execution_count": null,
   "metadata": {},
   "outputs": [],
   "source": [
    "import boto3\n",
    "import botoplus.organization as _org\n",
    "\n",
    "accounts = _org.accounts()\n",
    "selected = _org.selected()\n",
    "\n",
    "home = 'us-east-2' # Define Management Region\n",
    "\n",
    "for account in accounts:\n",
    "\n",
    "    if account['awsalias'] == 'Log archive': # Exclude Management Account\n",
    "\n",
    "        print(str(account['awsaccount'])+' '+account['awsalias'])\n",
    "        print(' - '+home)\n",
    "\n",
    "        sts = selected.client('sts')\n",
    "\n",
    "        assumed = sts.assume_role(\n",
    "            RoleArn = 'arn:aws:iam::'+account['awsaccount']+':role/AWSControlTowerExecution',\n",
    "            RoleSessionName = 'ControlTowerBreakGlass'\n",
    "        )\n",
    "        session = boto3.Session(\n",
    "            aws_access_key_id = assumed['Credentials']['AccessKeyId'],\n",
    "            aws_secret_access_key = assumed['Credentials']['SecretAccessKey'],\n",
    "            aws_session_token = assumed['Credentials']['SessionToken']\n",
    "        )\n",
    "\n",
    "        s3 = session.client('s3', region_name=home)\n",
    "\n",
    "        try:\n",
    "            s3.put_bucket_logging(\n",
    "                Bucket = 'aws-controltower-logs-'+str(account['awsaccount'])+'-'+home,\n",
    "                BucketLoggingStatus = {}\n",
    "            )\n",
    "            print('   Server Access Logging Disabled')\n",
    "        except Exception as e:\n",
    "            print('   Error: '+str(e))\n",
    "            pass"
   ]
  }
 ],
 "metadata": {
  "kernelspec": {
   "display_name": "Python 3",
   "language": "python",
   "name": "python3"
  },
  "language_info": {
   "codemirror_mode": {
    "name": "ipython",
    "version": 3
   },
   "file_extension": ".py",
   "mimetype": "text/x-python",
   "name": "python",
   "nbconvert_exporter": "python",
   "pygments_lexer": "ipython3",
   "version": "3.12.1"
  }
 },
 "nbformat": 4,
 "nbformat_minor": 2
}
