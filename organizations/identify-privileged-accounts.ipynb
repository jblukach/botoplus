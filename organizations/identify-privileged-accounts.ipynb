{
 "cells": [
  {
   "attachments": {},
   "cell_type": "markdown",
   "metadata": {},
   "source": [
    "### Organizations \n",
    "##### Identify Privileged Accounts\n",
    "https://docs.aws.amazon.com/organizations/latest/userguide/orgs_integrate_services_list.html"
   ]
  },
  {
   "cell_type": "code",
   "execution_count": null,
   "metadata": {},
   "outputs": [],
   "source": [
    "import botoplus.botoplus as botoplus\n",
    "\n",
    "session = botoplus.default()\n",
    "client = session.client('organizations')\n",
    "paginator = client.get_paginator('list_delegated_administrators')\n",
    "pages = paginator.paginate()\n",
    "\n",
    "for page in pages:\n",
    "    for item in page['DelegatedAdministrators']:\n",
    "\n",
    "        print(str(item['Id'])+' '+item['Name'])\n",
    "        paginator2 = client.get_paginator('list_delegated_services_for_account')\n",
    "        pages2 = paginator2.paginate(\n",
    "            AccountId = item['Id']\n",
    "        )\n",
    "\n",
    "        for page2 in pages2:\n",
    "            for item2 in page2['DelegatedServices']:\n",
    "                print(' - '+str(item2['DelegationEnabledDate'])+' '+item2['ServicePrincipal'])"
   ]
  }
 ],
 "metadata": {
  "kernelspec": {
   "display_name": "Python 3",
   "language": "python",
   "name": "python3"
  },
  "language_info": {
   "codemirror_mode": {
    "name": "ipython",
    "version": 3
   },
   "file_extension": ".py",
   "mimetype": "text/x-python",
   "name": "python",
   "nbconvert_exporter": "python",
   "pygments_lexer": "ipython3",
   "version": "3.10.8"
  }
 },
 "nbformat": 4,
 "nbformat_minor": 2
}
