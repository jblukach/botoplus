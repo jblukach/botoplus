{
 "cells": [
  {
   "attachments": {},
   "cell_type": "markdown",
   "metadata": {},
   "source": [
    "### AWS IAM Identity Center (SSO)\n",
    "##### AWS Command Line Interface (AWS CLI) Version 2 Requirement\n",
    "https://docs.aws.amazon.com/cli/latest/userguide/getting-started-install.html"
   ]
  },
  {
   "cell_type": "code",
   "execution_count": null,
   "metadata": {},
   "outputs": [],
   "source": [
    "import os\n",
    "\n",
    "os.system('curl \"https://awscli.amazonaws.com/awscli-exe-linux-x86_64.zip\" -o \"../awscliv2.zip\"')\n",
    "os.system('unzip -o ../awscliv2.zip -d ../')\n",
    "os.system('cd .. && sudo ./aws/install --update')\n",
    "os.system('aws --version')"
   ]
  },
  {
   "attachments": {},
   "cell_type": "markdown",
   "metadata": {},
   "source": [
    "##### Python Library for Jupyter Notebooks\n",
    "https://github.com/botoplus/botoplus"
   ]
  },
  {
   "cell_type": "code",
   "execution_count": null,
   "metadata": {},
   "outputs": [],
   "source": [
    "import sys\n",
    "\n",
    "!{sys.executable} -m pip install botoplus --upgrade"
   ]
  },
  {
   "attachments": {},
   "cell_type": "markdown",
   "metadata": {},
   "source": [
    "##### Aqueduct Utility for IAM Identity Center (SSO) Authenication\n",
    "https://github.com/jblukach/aqueduct"
   ]
  },
  {
   "cell_type": "code",
   "execution_count": null,
   "metadata": {},
   "outputs": [],
   "source": [
    "import sys\n",
    "\n",
    "!{sys.executable} -m pip install aqueduct-utility --upgrade"
   ]
  },
  {
   "attachments": {},
   "cell_type": "markdown",
   "metadata": {},
   "source": [
    "##### Login Example\n",
    "\n",
    "```\n",
    "Identity Store: portal\n",
    "SSO Region: us-east-2\n",
    "SSO Role: AWSAdministratorAccess\n",
    "CLI Region: us-east-2\n",
    "CLI Output: json\n",
    "Authenticated!!\n",
    "```"
   ]
  },
  {
   "cell_type": "code",
   "execution_count": null,
   "metadata": {},
   "outputs": [],
   "source": [
    "import aqueduct.identity as _idp\n",
    "\n",
    "_idp.login()"
   ]
  },
  {
   "cell_type": "markdown",
   "metadata": {},
   "source": [
    "##### Logout Example\n",
    "\n",
    "```\n",
    "Logged Out!!\n",
    "```"
   ]
  },
  {
   "cell_type": "code",
   "execution_count": null,
   "metadata": {},
   "outputs": [],
   "source": [
    "import aqueduct.identity as _idp\n",
    "\n",
    "_idp.logout()"
   ]
  },
  {
   "attachments": {},
   "cell_type": "markdown",
   "metadata": {},
   "source": [
    "##### Local Development"
   ]
  },
  {
   "cell_type": "code",
   "execution_count": null,
   "metadata": {},
   "outputs": [],
   "source": [
    "import os\n",
    "\n",
    "os.system('python setup.py install --user')"
   ]
  },
  {
   "attachments": {},
   "cell_type": "markdown",
   "metadata": {},
   "source": [
    "##### Build Test"
   ]
  },
  {
   "cell_type": "code",
   "execution_count": null,
   "metadata": {},
   "outputs": [],
   "source": [
    "import botoplus.botoplus as botoplus\n",
    "\n",
    "botoplus.hello()"
   ]
  },
  {
   "cell_type": "markdown",
   "metadata": {},
   "source": [
    "### Amazon Security Lake\n",
    "##### Identify Delegated Administrator"
   ]
  },
  {
   "cell_type": "code",
   "execution_count": null,
   "metadata": {},
   "outputs": [],
   "source": [
    "import botoplus.botoplus as botoplus\n",
    "\n",
    "selected_account = 'Unavailable'\n",
    "\n",
    "session = botoplus.default()\n",
    "client = session.client('organizations')\n",
    "paginator = client.get_paginator('list_delegated_administrators')\n",
    "pages = paginator.paginate()\n",
    "\n",
    "for page in pages:\n",
    "    for item in page['DelegatedAdministrators']:\n",
    "\n",
    "        paginator2 = client.get_paginator('list_delegated_services_for_account')\n",
    "        pages2 = paginator2.paginate(\n",
    "            AccountId = item['Id']\n",
    "        )\n",
    "\n",
    "        for page2 in pages2:\n",
    "            for item2 in page2['DelegatedServices']:\n",
    "                if item2['ServicePrincipal'] == 'securitylake.amazonaws.com':\n",
    "                    selected_account = item['Name']\n",
    "\n",
    "print('Amazon Security Lake Delegated Administrator: '+selected_account)"
   ]
  },
  {
   "cell_type": "markdown",
   "metadata": {},
   "source": [
    "##### Regions Ingesting Data"
   ]
  },
  {
   "cell_type": "code",
   "execution_count": null,
   "metadata": {},
   "outputs": [],
   "source": [
    "import botoplus.botoplus as botoplus\n",
    "\n",
    "ingestion = []\n",
    "\n",
    "try:\n",
    "\n",
    "    session = botoplus.defaults(selected_account)\n",
    "    securitylake = session.client('securitylake')\n",
    "    regions = securitylake.get_data_lake_organization_configuration()\n",
    "\n",
    "    for region in regions['autoEnableNewAccount']:\n",
    "        print(region['region'])\n",
    "        ingestion.append(region['region'])\n",
    "        for source in region['sources']:\n",
    "            print(' * '+source['sourceVersion']+' '+source['sourceName'])\n",
    "\n",
    "except:\n",
    "    print('Amazon Security Lake Delegated Administrator: Unidentified')\n",
    "    pass"
   ]
  },
  {
   "cell_type": "markdown",
   "metadata": {},
   "source": [
    "##### Identify Replication Region"
   ]
  },
  {
   "cell_type": "code",
   "execution_count": null,
   "metadata": {},
   "outputs": [],
   "source": [
    "import botoplus.botoplus as botoplus\n",
    "\n",
    "replication = []\n",
    "\n",
    "try:\n",
    "\n",
    "    session = botoplus.defaults(selected_account)\n",
    "    securitylake = session.client('securitylake')\n",
    "    lakes = securitylake.list_data_lakes(\n",
    "        regions = ingestion\n",
    "    )\n",
    "\n",
    "    for lake in lakes['dataLakes']:\n",
    "        try:\n",
    "            for region in lake['replicationConfiguration']['regions']:\n",
    "                replication.append(region)\n",
    "        except:\n",
    "            pass\n",
    "\n",
    "except:\n",
    "    print('Amazon Security Ingestion Region(s): Unidentified')\n",
    "    pass\n",
    "\n",
    "try:\n",
    "    replication = list(set(replication))\n",
    "    replication = replication[0]\n",
    "    print('Amazon Security Lake Replication Region: '+str(replication))\n",
    "except:\n",
    "    pass"
   ]
  },
  {
   "cell_type": "markdown",
   "metadata": {},
   "source": [
    "##### Lifecycle Configuration"
   ]
  },
  {
   "cell_type": "code",
   "execution_count": null,
   "metadata": {},
   "outputs": [],
   "source": [
    "import json\n",
    "import botoplus.botoplus as botoplus\n",
    "\n",
    "try:\n",
    "\n",
    "    session = botoplus.defaults(selected_account)\n",
    "    securitylake = session.client('securitylake')\n",
    "    lakes = securitylake.list_data_lakes(\n",
    "        regions = ingestion\n",
    "    )\n",
    "\n",
    "    for lake in lakes['dataLakes']:\n",
    "        if lake['region'] == replication:\n",
    "            print(json.dumps(lake['lifecycleConfiguration'], indent=4, sort_keys=True))\n",
    "\n",
    "except:\n",
    "    print('Amazon Security Ingestion Region(s): Unidentified')\n",
    "    pass"
   ]
  },
  {
   "cell_type": "markdown",
   "metadata": {},
   "source": [
    "### Amazon Athena\n",
    "##### List Query Executions"
   ]
  },
  {
   "cell_type": "code",
   "execution_count": null,
   "metadata": {},
   "outputs": [],
   "source": [
    "import time\n",
    "import botoplus.botoplus as botoplus\n",
    "\n",
    "try:\n",
    "\n",
    "    session = botoplus.defaults(selected_account)\n",
    "    athena = session.client('athena', region_name=replication)\n",
    "    paginator = athena.get_paginator('list_query_executions')\n",
    "    pages = paginator.paginate()\n",
    "\n",
    "    for page in pages:\n",
    "        for item in page['QueryExecutionIds']:\n",
    "            execution = athena.get_query_execution(\n",
    "                QueryExecutionId = item\n",
    "            )\n",
    "            if execution['QueryExecution']['Status']['SubmissionDateTime'].timestamp() > (time.time() - 604800):\n",
    "                if execution['QueryExecution']['Status']['State'] == 'SUCCEEDED':\n",
    "                    if execution['QueryExecution']['Statistics']['DataScannedInBytes'] > 0:\n",
    "                        print(execution['QueryExecution']['Query'])\n",
    "                        print(' * Date: '+str(execution['QueryExecution']['Status']['CompletionDateTime']))\n",
    "                        print(' * Execution: '+execution['QueryExecution']['QueryExecutionId'])\n",
    "                        print(' * Megabytes: '+str(execution['QueryExecution']['Statistics']['DataScannedInBytes']/1000000))\n",
    "                        print(' * Minutes: '+str(execution['QueryExecution']['Statistics']['EngineExecutionTimeInMillis']/60000))\n",
    "\n",
    "except:\n",
    "    print('Amazon Security Ingestion Region(s): Unidentified')\n",
    "    pass"
   ]
  },
  {
   "cell_type": "markdown",
   "metadata": {},
   "source": [
    "##### Query Execution Output"
   ]
  },
  {
   "cell_type": "code",
   "execution_count": null,
   "metadata": {},
   "outputs": [],
   "source": [
    "import botoplus.botoplus as botoplus\n",
    "\n",
    "query_execution_id = botoplus.execution()\n",
    "\n",
    "try:\n",
    "\n",
    "    session = botoplus.defaults(selected_account)\n",
    "    athena = session.client('athena', region_name=replication)\n",
    "    output = athena.get_query_runtime_statistics(\n",
    "        QueryExecutionId = query_execution_id\n",
    "    )\n",
    "    print(' * Megabytes: '+str(output['QueryRuntimeStatistics']['OutputStage']['OutputBytes']/1000000))\n",
    "    print(' * Output Rows: '+str(output['QueryRuntimeStatistics']['OutputStage']['OutputRows']))\n",
    "\n",
    "except:\n",
    "    print('Amazon Security Ingestion Region(s): Unidentified')\n",
    "    pass"
   ]
  },
  {
   "cell_type": "markdown",
   "metadata": {},
   "source": [
    "##### Query Execution Output"
   ]
  },
  {
   "cell_type": "code",
   "execution_count": null,
   "metadata": {},
   "outputs": [],
   "source": [
    "import botoplus.botoplus as botoplus\n",
    "import pandas as pd\n",
    "\n",
    "session = botoplus.defaults(selected_account)\n",
    "athena = session.client('athena', region_name=replication)\n",
    "output = athena.get_query_execution(\n",
    "    QueryExecutionId = query_execution_id\n",
    ")\n",
    "\n",
    "bucket = output['QueryExecution']['ResultConfiguration']['OutputLocation']\n",
    "out = bucket[5:].split('/')\n",
    "print(bucket)\n",
    "\n",
    "s3 = session.resource('s3')\n",
    "s3.Object(out[0], out[1]).download_file('/tmp/'+out[1])\n",
    "\n",
    "df = pd.read_csv('/tmp/'+out[1], sep=',')\n",
    "\n",
    "pd.set_option('display.max_columns', None)\n",
    "pd.set_option('display.max_rows', None)\n",
    "\n",
    "df.head(1)"
   ]
  },
  {
   "cell_type": "markdown",
   "metadata": {},
   "source": [
    "### Amazon Route 53 Resolver Query Logs\n",
    "##### Start Query Execution"
   ]
  },
  {
   "cell_type": "code",
   "execution_count": null,
   "metadata": {},
   "outputs": [],
   "source": [
    "# Multi-line athena search\n",
    "import botoplus.botoplus as botoplus\n",
    "\n",
    "query = \"\"\"\n",
    "SELECT time,\n",
    "\tmetadata.product.version,\n",
    "\tmetadata.product.name AS service,\n",
    "\tmetadata.product.feature.name,\n",
    "\tmetadata.product.vendor_name,\n",
    "\tmetadata.profiles,\n",
    "\tmetadata.version AS securitylake,\n",
    "\tsrc_endpoint.vpc_uid AS src_vpc_uid,\n",
    "\tsrc_endpoint.ip AS src_ip,\n",
    "\tsrc_endpoint.port AS src_port,\n",
    "\tsrc_endpoint.instance_uid AS src_instance_uid,\n",
    "\tquery.hostname AS query_hostname,\n",
    "\tquery.type AS query_type,\n",
    "\tquery.class AS query_class,\n",
    "\tconnection_info.protocol_name,\n",
    "\tconnection_info.direction,\n",
    "\tconnection_info.direction_id,\n",
    "\tdst_endpoint.instance_uid AS dst_instance_uid,\n",
    "\tdst_endpoint.interface_uid AS dst_inaterface_uid,\n",
    "\tseverity_id,\n",
    "\tseverity,\n",
    "\tclass_name,\n",
    "\tclass_uid,\n",
    "\tdisposition,\n",
    "\tdisposition_id,\n",
    "\trcode_id,\n",
    "\trcode,\n",
    "\tactivity_id,\n",
    "\tactivity_name,\n",
    "\ttype_name,\n",
    "\ttype_uid,\n",
    "\tunmapped,\n",
    "\tregion,\n",
    "\taccountid,\n",
    "\teventday,\n",
    "\tcardinality(answers) AS answer_count,\n",
    "\tanswers\n",
    "FROM amazon_security_lake_glue_db_us_east_2.amazon_security_lake_table_us_east_2_route53_1_0\n",
    "WHERE eventDay BETWEEN cast(\n",
    "\t\tdate_format(current_timestamp - INTERVAL '7' day, '%Y%m%d%H') as varchar\n",
    "\t)\n",
    "\tand cast(\n",
    "\t\tdate_format(current_timestamp - INTERVAL '0' day, '%Y%m%d%H') as varchar\n",
    "\t)\n",
    "ORDER BY time DESC\n",
    "\"\"\"\n",
    "\n",
    "converted = botoplus.convert(selected_account)\n",
    "\n",
    "session = botoplus.defaults(selected_account)\n",
    "athena = session.client('athena', region_name=replication)\n",
    "athena.start_query_execution(\n",
    "    QueryString = query,\n",
    "    ResultConfiguration = {\n",
    "        'OutputLocation': 's3://temp-athena-results-'+converted['awsaccount']+'-'+replication+'/'\n",
    "    }\n",
    ")"
   ]
  }
 ],
 "metadata": {
  "kernelspec": {
   "display_name": "Python 3",
   "language": "python",
   "name": "python3"
  },
  "language_info": {
   "codemirror_mode": {
    "name": "ipython",
    "version": 3
   },
   "file_extension": ".py",
   "mimetype": "text/x-python",
   "name": "python",
   "nbconvert_exporter": "python",
   "pygments_lexer": "ipython3",
   "version": "3.10.8"
  }
 },
 "nbformat": 4,
 "nbformat_minor": 2
}
